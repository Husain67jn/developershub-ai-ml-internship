!pip install -q pandas numpy scikit-learn matplotlib seaborn
import numpy as np
import pandas as pd
import seaborn as sns
import matplotlib.pyplot as plt
from sklearn.datasets import fetch_california_housing
from sklearn.model_selection import train_test_split
from sklearn.preprocessing import StandardScaler
from sklearn.linear_model import LinearRegression
from sklearn.ensemble import GradientBoostingRegressor
from sklearn.metrics import mean_absolute_error, mean_squared_error

data = fetch_california_housing(as_frame=True)
df = data.frame
print("Shape:", df.shape)
display(df.head())
display(df.describe().T)

plt.figure(figsize=(6,4))
sns.histplot(df["MedHouseVal"], kde=True, color="#2A9D8F")
plt.title("Target Distribution (Median House Value)")
plt.show()

corr = df.corr(numeric_only=True)["MedHouseVal"].sort_values(ascending=False)
print("Top correlations with price:")
display(corr.head(10))

X = df.drop(columns=["MedHouseVal"])
y = df["MedHouseVal"]

X_train, X_test, y_train, y_test = train_test_split(X, y, test_size=0.2, random_state=42)

scaler = StandardScaler()
X_train_s = scaler.fit_transform(X_train)
X_test_s = scaler.transform(X_test)

lr = LinearRegression()
lr.fit(X_train_s, y_train)
pred_lr = lr.predict(X_test_s)

gbr = GradientBoostingRegressor(random_state=42)
gbr.fit(X_train, y_train)
pred_gbr = gbr.predict(X_test)

def eval_print(name, y_true, y_pred):
    mae = mean_absolute_error(y_true, y_pred)
    rmse = mean_squared_error(y_true, y_pred)
    print(f"{name} MAE: {mae:.3f} RMSE: {rmse:.3f}")

eval_print("Linear Regression", y_test, pred_lr)
eval_print("Gradient Boosting", y_test, pred_gbr)

plt.figure(figsize=(5,5))
sns.scatterplot(x=y_test, y=pred_gbr, s=18)
plt.plot([y_test.min(), y_test.max()], [y_test.min(), y_test.max()], 'r--')
plt.xlabel("Actual Price")
plt.ylabel("Predicted Price (GBR)")
plt.title("House Prices: Actual vs Predicted")
plt.tight_layout(); plt.show()
