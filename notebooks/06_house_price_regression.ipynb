# Install (quiet)
!pip install -q pandas numpy scikit-learn matplotlib seaborn

import numpy as np
import pandas as pd
import seaborn as sns
import matplotlib.pyplot as plt

from sklearn.datasets import fetch_california_housing
from sklearn.model_selection import train_test_split
from sklearn.preprocessing import StandardScaler
from sklearn.linear_model import LinearRegression
from sklearn.ensemble import GradientBoostingRegressor
from sklearn.metrics import mean_absolute_error, mean_squared_error, r2_score

# 1) Load dataset
data = fetch_california_housing(as_frame=True)
df = data.frame.copy()  # defensive copy

print("Shape:", df.shape)
try:
    display(df.head())
    display(df.describe().T)
except NameError:
    # Fallback if 'display' isn't available
    print(df.head().to_string())
    print(df.describe().T.to_string())

# 2) Target distribution
plt.figure(figsize=(6,4))
sns.histplot(df["MedHouseVal"], kde=True)
plt.title("Target Distribution (Median House Value)")
plt.xlabel("MedHouseVal")
plt.tight_layout()
plt.show()

# 3) Correlations with target (numeric only, explicit)
corr = df.corr(numeric_only=True)["MedHouseVal"].sort_values(ascending=False)
print("Top correlations with price:")
try:
    display(corr.head(10))
except NameError:
    print(corr.head(10).to_string())

# 4) Split
X = df.drop(columns=["MedHouseVal"])
y = df["MedHouseVal"]

X_train, X_test, y_train, y_test = train_test_split(
    X, y, test_size=0.2, random_state=42
)

# 5) Models
# Linear Regression with standardization
scaler = StandardScaler()
X_train_s = scaler.fit_transform(X_train)
X_test_s  = scaler.transform(X_test)

lr = LinearRegression()
lr.fit(X_train_s, y_train)
pred_lr = lr.predict(X_test_s)

# Gradient Boosting (no scaling needed)
gbr = GradientBoostingRegressor(random_state=42)
gbr.fit(X_train, y_train)
pred_gbr = gbr.predict(X_test)

# 6) Evaluation
def eval_print(name, y_true, y_pred):
    mae  = mean_absolute_error(y_true, y_pred)
    rmse = mean_squared_error(y_true, y_pred, squared=False)  # <-- true RMSE
    r2   = r2_score(y_true, y_pred)
    print(f"{name:>18} | MAE: {mae:.3f} | RMSE: {rmse:.3f} | R²: {r2:.3f}")

eval_print("Linear Regression", y_test, pred_lr)
eval_print("Gradient Boosting", y_test, pred_gbr)

# 7) Actual vs Predicted plot (GBR)
plt.figure(figsize=(5,5))
sns.scatterplot(x=y_test, y=pred_gbr, s=18)
lims = [min(y_test.min(), pred_gbr.min()), max(y_test.max(), pred_gbr.max())]
plt.plot(lims, lims, linestyle="--")  # y = x reference
plt.xlabel("Actual MedHouseVal")
plt.ylabel("Predicted MedHouseVal (GBR)")
plt.title("House Prices: Actual vs Predicted")
plt.tight_layout()
plt.show()
